{
 "cells": [
  {
   "cell_type": "markdown",
   "metadata": {},
   "source": [
    "## Project Stage - III (Distributions and Hypothesis Testing)"
   ]
  },
  {
   "cell_type": "markdown",
   "metadata": {},
   "source": [
    "## Goals\n",
    "\n",
    "The goal of Stage III is to develop distributions and formal hypothesis tests for the intuitions you had in Stage I and II."
   ]
  },
  {
   "cell_type": "markdown",
   "metadata": {},
   "source": [
    "#### Task: (100 pts)\n",
    "- Member:\n",
    "    - Use the state data generated in Stage II to fit a distribution to the number of COVID-19 **new** cases using any of MoM, MLE, and KDE methods. \n",
    "        - Graphically plot the distribution.\n",
    "        - Describe the type of distribution and its statistics (moments of a distribution - center, variance, skewness, kurtosis) in the notebook.\n",
    "        - Compare the distribution and its statistics to 3 other states of your choosing. Describe if the distributions look different and what does that imply.\n",
    "    \n",
    "    - Based on the results in Stage I, perform corelation between Enrichment data valiables and COVID-19 cases to observe any patterns.\n",
    "        - You can compare either within your chosen specific state or among different states with the different enrichment variables. Within the state you can compare the county based covid data to enrichment data for correlation. Between states you would need to aggregate to state level data and then perform correlation. **Both covid and enrichment data will need to be normalized for population.** For number of covid cases you can use a measure of center value (median or mean) to compare the number of cases. \n",
    "    - Formulate hypothesis between Enrichment data and number of cases to be compared against states. Choose 3 different variables to compare against. \n",
    "        - For example: *Does higher employment data lead to higher covid case numbers or more rapid increase in covid cases.* \n",
    "\n",
    "\n",
    "**Deliverable**\n",
    "- Each member creates separate notebooks for member tasks. Upload all notebooks and reports to **Canvas**. Do not submit to Github, at least before the submission deadline, to avoid potential plagiarism."
   ]
  },
  {
   "cell_type": "markdown",
   "metadata": {},
   "source": [
    "## Deadline: 03/28/2023"
   ]
  },
  {
   "cell_type": "code",
   "execution_count": null,
   "metadata": {},
   "outputs": [],
   "source": []
  }
 ],
 "metadata": {
  "kernelspec": {
   "display_name": "Python 3 (ipykernel)",
   "language": "python",
   "name": "python3"
  },
  "language_info": {
   "codemirror_mode": {
    "name": "ipython",
    "version": 3
   },
   "file_extension": ".py",
   "mimetype": "text/x-python",
   "name": "python",
   "nbconvert_exporter": "python",
   "pygments_lexer": "ipython3",
   "version": "3.8.2"
  },
  "nteract": {
   "version": "0.28.0"
  }
 },
 "nbformat": 4,
 "nbformat_minor": 2
}
