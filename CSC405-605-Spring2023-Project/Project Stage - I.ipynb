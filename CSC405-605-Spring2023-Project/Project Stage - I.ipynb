{
 "cells": [
  {
   "cell_type": "markdown",
   "metadata": {},
   "source": [
    "# Covid Data Analysis"
   ]
  },
  {
   "cell_type": "markdown",
   "metadata": {},
   "source": [
    "### Description:\n",
    "Coronavirus is a continuing worldwide pandemic, which has affected a lot of people including you. Our goal of the project in this class is to develop an analytical framework to study the data coming from United States to understand patterns of COVID-19 effect and spread. \n",
    "\n",
    "In order to achieve that, the project is separated into 5 stages: \n",
    "\n",
    "- Stage I - Data and Project Understanding, \n",
    "- Stage II - Data Modeling, \n",
    "- Stage III - Distributions and Hypothesis Testing,\n",
    "- Stage IV - Basic Machine Learning, and \n",
    "- Stage V - Dashboard \n",
    "\n",
    "*PS: Each stage has equal distibution of weight in terms of point for the final project.*\n"
   ]
  },
  {
   "cell_type": "markdown",
   "metadata": {},
   "source": [
    "## Project Stage - I (Data and Project Understanding )"
   ]
  },
  {
   "cell_type": "markdown",
   "metadata": {},
   "source": [
    "### COVID-19 Dataset:\n",
    "\n",
    "We will utilize the data from usfacts.org. The dataset contains daily county-level tracker of COVID-19 cases. This makes it easy to follow COVID-19 cases on a granular level, as does the ability to break down infections per 100,000 people (with the population data). The underlying data is available for download below the US county map and has helped government agencies like the Centers for Disease Control and Prevention in its nationwide efforts.\n",
    "\n",
    "https://usafacts.org/visualizations/coronavirus-covid-19-spread-map/\n",
    "\n",
    "**Number of Cases**\n",
    "\n",
    "**Number of Deaths**\n",
    "\n",
    "**Population by County**\n"
   ]
  },
  {
   "cell_type": "markdown",
   "metadata": {},
   "source": [
    "### Enrichment Datasets for COVID-19\n",
    "\n",
    "**Census Demographic ACS**\n",
    "\n",
    "https://data.census.gov/cedsci/table?q=dp&tid=ACSDP1Y2018.DP05\n",
    "\n",
    "This dataset contains demographic information of each county in United States which can be combined with the COVID-19 dataset. For example, population estimated broken down by age group can determine what the level of infection can be. \n",
    "\n",
    "How to:\n",
    "\n",
    "![SegmentLocal](gif/ACS_download.gif \"segment\")\n",
    "\n",
    "\n",
    "**ACS Social, Economic, and Housing**\n",
    "\n",
    "https://data.census.gov/cedsci/table?q=dp&tid=ACSDP1Y2018.DP05\n",
    "\n",
    "On the same link as above the left tab of the page there are several additional datasets such as Social Characteristics, Economic Charactistics, and Housing Characteristics. The social, economic, and housing determinants can provide insight to what type of population lives in a county.\n",
    "\n",
    "![title](image/ACS_characteristics.png)\n",
    "\n",
    "**Employment Dataset**\n",
    "\n",
    "https://www.bls.gov/cew/downloadable-data-files.htm\n",
    "\n",
    "The employment dataset provides the level of employment and the earning potential by county.\n",
    "\n",
    "![SegmentLocal](gif/Employment_download.gif \"segment\")\n",
    "\n",
    "\n",
    "**Presidential Election Results (Political leanings)**\n",
    "\n",
    "https://www.kaggle.com/unanimad/us-election-2020\n",
    "\n",
    "This dataset provides the 2020 election results by county. The dataset contains who was the winning candidate and by how much. \n",
    "\n",
    "![SegmentLocal](gif/Election.gif \"segment\")\n",
    "\n",
    "**Hospital Beds Dataset**\n",
    "\n",
    "https://protect-public.hhs.gov/pages/hospital-utilization\n",
    "\n",
    "This dataset provides the number of hospital beds and ICU units available by county. This is also time-delimited showing the decreasing capacity of beds due to COVID-19\n",
    "\n",
    "![SegmentLocal](gif/Hospital_download_2.gif \"segment\")"
   ]
  },
  {
   "cell_type": "markdown",
   "metadata": {},
   "source": [
    "## Goals\n",
    "\n",
    "The idea here is to get acquainted with the different datasets shown above. We will be using all of them in our analysis. "
   ]
  },
  {
   "cell_type": "markdown",
   "metadata": {},
   "source": [
    "### Tasks:\n",
    "\n",
    "#### Task 1: (20 pts)\n",
    "- Initialize a Github Repository for your project. Add my GitHub ID, c-zhu3, as a collaborator.\n",
    "    - Add a description (readme.MD) to your project. See here on how to setup: https://bulldogjob.com/news/449-how-to-write-a-good-readme-for-your-github-project\n",
    "\n",
    "#### Task 2: (30 pts)\n",
    "- Entire team looks at the COVID-19 Dataset and understands the type of variables present in each of the data. (10 pts)\n",
    "    - **Deliverable** \n",
    "        - Section in the report describing the COVID-19 dataset and datatype - variable dictionary\n",
    "        - Preliminary intutions from the data\n",
    "- Each student member of the team takes on an enrichment dataset. They read the data descriptions and understand the variables present in the data. (20 pts)\n",
    "    - **Deliverable** \n",
    "        - Section in the report describing the enrichment data and datatype - variable dictionary.\n",
    "            - https://analystanswers.com/what-is-a-data-dictionary-a-simple-thorough-overview/\n",
    "        - How can you merge the data with the primary COVID-19 dataset. Identify the individual variable which map between the datasets.\n",
    "        - Describe how your enrichment data can help in the analysis of COVID-19 spread. Pose initial hypothesis questions. \n",
    "\n",
    "Upload the entire report to canvas and your Github Repository. \n",
    "\n",
    "#### Task 3: (50 pts)\n",
    "- Team: (20 pts)\n",
    "    - Create a team notebook to read in the COVID-19 data (cases, deaths, and population) using `pandas` and display the dataframe in a notebook.\n",
    "    - Merge all the three variables (cases, deaths, and population) to create a super COVID-19 datafame. Export it to a csv format.\n",
    "- Member: (30 pts)\n",
    "    - Calculate COVID-19 data trends for last week of the data. Are the cases increasing, decreasing, or stable? Each student chooses a state to analyze. \n",
    "    - Each student member creates notebooks to read the Enrichment data and displays them on a notebook. \n",
    "    - Each student member performs initial merges with the COVID-19 data using the variables in the Enrichment data. \n",
    "\n",
    "**Deliverable**\n",
    "Each member creates separate notebooks for member tasks. Upload all notebooks to Github Repository. "
   ]
  },
  {
   "cell_type": "markdown",
   "metadata": {},
   "source": [
    "## Deadline: 02/08/2022"
   ]
  },
  {
   "cell_type": "code",
   "execution_count": null,
   "metadata": {},
   "outputs": [],
   "source": []
  }
 ],
 "metadata": {
  "kernelspec": {
   "display_name": "Python 3 (ipykernel)",
   "language": "python",
   "name": "python3"
  },
  "language_info": {
   "codemirror_mode": {
    "name": "ipython",
    "version": 3
   },
   "file_extension": ".py",
   "mimetype": "text/x-python",
   "name": "python",
   "nbconvert_exporter": "python",
   "pygments_lexer": "ipython3",
   "version": "3.8.2"
  },
  "nteract": {
   "version": "0.28.0"
  }
 },
 "nbformat": 4,
 "nbformat_minor": 2
}
