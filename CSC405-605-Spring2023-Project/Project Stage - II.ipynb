{
 "cells": [
  {
   "cell_type": "markdown",
   "metadata": {},
   "source": [
    "## Project Stage - II (Data Modeling)"
   ]
  },
  {
   "cell_type": "markdown",
   "metadata": {},
   "source": [
    "## Goals\n",
    "\n",
    "The goal of Stage II is to develop the data for modeling and comparative analysis. Here you will be comparing how US is doing with other countries in COVID cases and deaths. And you will be also analysing county based information for different states in the US.\n"
   ]
  },
  {
   "cell_type": "markdown",
   "metadata": {},
   "source": [
    "### Task: (100 pts)\n",
    "***All the tasks are performed only on COVID data in the second half year of 2022, that is, from 6/1/2022 to 12/31/2022.***\n",
    "- Team: (50 pts)\n",
    "    - Compare the weekly statistics (mean, median, mode) for number of **new** cases and deaths across US. \n",
    "    - Calculate mean (rounded to integer value) number of new cases/deaths per week and then calculate basic statistics (mean, median, mode) on that data. \n",
    "    - Compare the data against other countries of the world. Data at: https://ourworldindata.org/coronavirus-source-data\n",
    "        - Choose at least 3 similar populations countries to compare. \n",
    "    - Plot weekly trends (cases and deaths) of US and compare to other countries. Utilize aggregrate, normalized by population (ex: number of cases per 100,000), difference in new cases, and log normalized values. \n",
    "    - Identify the peak weeks of the cases and deaths in US and other countries. Try to do background research to see what the reasoning for the peaks can be (holidays, vacations, travel, etc). Explain and relate the peaks with a description in the notebooks. \n",
    "- Member: (50 pts)\n",
    "    - Generate weekly statistics (mean, median, mode) for number of **new** cases and deaths across a specific state. \n",
    "    - Compare the data against 3 other states. Normalize by population, use a normalization factor which is able to identify cases and deaths, for example try per 10,000 or 100,000 (this depends on the population). Plot the values across the weeks in a line plot for the 3 states in a single graph. Describe why the rates differ across these states in the notebook. Identify the peaks, are they consistent with the US pattern?\n",
    "    - Identify 3 counties within a state of your choice with high cases and death rates. \n",
    "    - Plot weekly trends (new cases and deaths) for the top 3 infected counties. Show plots by raw values and log normalized values. Describe what is causing them and what were the peaks. Do the counties follow state pattern. \n",
    "    \n",
    "\n",
    "**Deliverable**\n",
    "- Embed your analysis directly in the notebooks.\n",
    "- Each member creates a separate notebook for member tasks.\n",
    "- Upload team and member notebooks and the converted pdf to Github Repository and Canvas."
   ]
  },
  {
   "cell_type": "markdown",
   "metadata": {},
   "source": [
    "## Deadline: 03/06/2023"
   ]
  },
  {
   "cell_type": "code",
   "execution_count": null,
   "metadata": {},
   "outputs": [],
   "source": []
  }
 ],
 "metadata": {
  "kernelspec": {
   "display_name": "Python 3 (ipykernel)",
   "language": "python",
   "name": "python3"
  },
  "language_info": {
   "codemirror_mode": {
    "name": "ipython",
    "version": 3
   },
   "file_extension": ".py",
   "mimetype": "text/x-python",
   "name": "python",
   "nbconvert_exporter": "python",
   "pygments_lexer": "ipython3",
   "version": "3.8.2"
  },
  "nteract": {
   "version": "0.28.0"
  }
 },
 "nbformat": 4,
 "nbformat_minor": 2
}
