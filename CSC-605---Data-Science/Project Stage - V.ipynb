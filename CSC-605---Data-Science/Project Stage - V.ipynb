{
 "cells": [
  {
   "cell_type": "markdown",
   "metadata": {},
   "source": [
    "## Project Stage - V (Dashboard)  ddl: 04/28/2023"
   ]
  },
  {
   "cell_type": "markdown",
   "metadata": {},
   "source": [
    "## Goals\n",
    "\n",
    "The final stage aims a developing a simple interactive dashboard based on the analysis you have done so far. In this we will be utilizing Plotly (https://plotly.com/) along with Dash (https://plotly.com/dash/) as our framework. \n",
    "\n",
    "Refer here for Plotly: https://github.com/UNCG-CSE/CSC-405-605_Spring_2021/blob/master/Class_Resources/Lecture_10/Visualization/03_Plotly/Plotly.ipynb\n",
    "\n",
    "Getting started with Dash: https://www.youtube.com/watch?v=hSPmj7mK6ng\n",
    "\n",
    "*PS: This can be invoked from Jupyter, see here: https://medium.com/plotly/introducing-jupyterdash-811f1f57c02e*"
   ]
  },
  {
   "cell_type": "markdown",
   "metadata": {},
   "source": [
    "### Tasks for stage V (team):\n",
    "\n",
    "#### Task 1: (70 pts)\n",
    "\n",
    "    - Main graph\n",
    "        - Allow for selection of date to show the trend of COVID-19 cases and deaths. (30)\n",
    "        - Allow for linear or log mode selection on the number of cases and deaths. (10)\n",
    "        - Incorporate your best model prediction trend line - Linear / Non-Linear. (30)\n",
    "        - Ex: https://ourworldindata.org/coronavirus\n",
    "        \n",
    "#### Task 2: (30 pts)\n",
    "\n",
    "    - Trend\n",
    "        - Plot the trend line using moving average (https://en.wikipedia.org/wiki/Moving_average). Use 7-day moving average. (15)\n",
    "        - Allow for selection of multiple states on the same graph. (15)\n",
    "    \n",
    "    \n",
    "\n",
    "**Deliverable**\n",
    "- Take screenshots of Report upload on canvas.\n",
    "- Each member creates separate notebooks for member tasks. Upload all notebooks to Github Repository. \n",
    "- Final Presentation recordings on canvas."
   ]
  },
  {
   "cell_type": "code",
   "execution_count": null,
   "metadata": {},
   "outputs": [],
   "source": []
  }
 ],
 "metadata": {
  "kernelspec": {
   "display_name": "Python 3 (ipykernel)",
   "language": "python",
   "name": "python3"
  },
  "language_info": {
   "codemirror_mode": {
    "name": "ipython",
    "version": 3
   },
   "file_extension": ".py",
   "mimetype": "text/x-python",
   "name": "python",
   "nbconvert_exporter": "python",
   "pygments_lexer": "ipython3",
   "version": "3.9.13"
  },
  "nteract": {
   "version": "0.28.0"
  }
 },
 "nbformat": 4,
 "nbformat_minor": 2
}
