{
 "cells": [
  {
   "cell_type": "code",
   "execution_count": 10,
   "metadata": {},
   "outputs": [
    {
     "name": "stdout",
     "output_type": "stream",
     "text": [
      "Requirement already satisfied: networkx in c:\\users\\mostafa\\appdata\\roaming\\python\\python39\\site-packages (3.0)\n",
      "Note: you may need to restart the kernel to use updated packages.\n"
     ]
    },
    {
     "name": "stderr",
     "output_type": "stream",
     "text": [
      "WARNING: You are using pip version 22.0.4; however, version 22.3.1 is available.\n",
      "You should consider upgrading via the 'c:\\Users\\Mostafa\\AppData\\Local\\Programs\\Python\\Python39\\python.exe -m pip install --upgrade pip' command.\n"
     ]
    },
    {
     "name": "stdout",
     "output_type": "stream",
     "text": [
      "Requirement already satisfied: numpy in c:\\users\\mostafa\\appdata\\roaming\\python\\python39\\site-packages (1.24.1)\n",
      "Note: you may need to restart the kernel to use updated packages.\n"
     ]
    },
    {
     "name": "stderr",
     "output_type": "stream",
     "text": [
      "WARNING: You are using pip version 22.0.4; however, version 22.3.1 is available.\n",
      "You should consider upgrading via the 'c:\\Users\\Mostafa\\AppData\\Local\\Programs\\Python\\Python39\\python.exe -m pip install --upgrade pip' command.\n"
     ]
    },
    {
     "name": "stdout",
     "output_type": "stream",
     "text": [
      "Requirement already satisfied: matplotlib in c:\\users\\mostafa\\appdata\\roaming\\python\\python39\\site-packages (3.6.3)\n",
      "Requirement already satisfied: fonttools>=4.22.0 in c:\\users\\mostafa\\appdata\\roaming\\python\\python39\\site-packages (from matplotlib) (4.38.0)\n",
      "Requirement already satisfied: contourpy>=1.0.1 in c:\\users\\mostafa\\appdata\\roaming\\python\\python39\\site-packages (from matplotlib) (1.0.7)\n",
      "Requirement already satisfied: cycler>=0.10 in c:\\users\\mostafa\\appdata\\roaming\\python\\python39\\site-packages (from matplotlib) (0.11.0)\n",
      "Requirement already satisfied: pillow>=6.2.0 in c:\\users\\mostafa\\appdata\\roaming\\python\\python39\\site-packages (from matplotlib) (9.4.0)\n",
      "Requirement already satisfied: kiwisolver>=1.0.1 in c:\\users\\mostafa\\appdata\\roaming\\python\\python39\\site-packages (from matplotlib) (1.4.4)\n",
      "Requirement already satisfied: packaging>=20.0 in c:\\users\\mostafa\\appdata\\roaming\\python\\python39\\site-packages (from matplotlib) (23.0)\n",
      "Requirement already satisfied: pyparsing>=2.2.1 in c:\\users\\mostafa\\appdata\\roaming\\python\\python39\\site-packages (from matplotlib) (3.0.9)\n",
      "Requirement already satisfied: numpy>=1.19 in c:\\users\\mostafa\\appdata\\roaming\\python\\python39\\site-packages (from matplotlib) (1.24.1)\n",
      "Requirement already satisfied: python-dateutil>=2.7 in c:\\users\\mostafa\\appdata\\roaming\\python\\python39\\site-packages (from matplotlib) (2.8.2)\n",
      "Requirement already satisfied: six>=1.5 in c:\\users\\mostafa\\appdata\\roaming\\python\\python39\\site-packages (from python-dateutil>=2.7->matplotlib) (1.16.0)\n",
      "Note: you may need to restart the kernel to use updated packages.\n"
     ]
    },
    {
     "name": "stderr",
     "output_type": "stream",
     "text": [
      "WARNING: You are using pip version 22.0.4; however, version 22.3.1 is available.\n",
      "You should consider upgrading via the 'c:\\Users\\Mostafa\\AppData\\Local\\Programs\\Python\\Python39\\python.exe -m pip install --upgrade pip' command.\n"
     ]
    },
    {
     "name": "stdout",
     "output_type": "stream",
     "text": [
      "Collecting scipy\n",
      "  Downloading scipy-1.10.0-cp39-cp39-win_amd64.whl (42.5 MB)\n",
      "     --------------------------------------- 42.5/42.5 MB 24.3 MB/s eta 0:00:00\n",
      "Requirement already satisfied: numpy<1.27.0,>=1.19.5 in c:\\users\\mostafa\\appdata\\roaming\\python\\python39\\site-packages (from scipy) (1.24.1)\n",
      "Installing collected packages: scipy\n",
      "Successfully installed scipy-1.10.0\n",
      "Note: you may need to restart the kernel to use updated packages.\n"
     ]
    },
    {
     "name": "stderr",
     "output_type": "stream",
     "text": [
      "WARNING: You are using pip version 22.0.4; however, version 22.3.1 is available.\n",
      "You should consider upgrading via the 'c:\\Users\\Mostafa\\AppData\\Local\\Programs\\Python\\Python39\\python.exe -m pip install --upgrade pip' command.\n"
     ]
    }
   ],
   "source": [
    "%pip install --user networkx\n",
    "%pip install --user numpy\n",
    "%pip install --user matplotlib\n",
    "%pip install --user scipy"
   ]
  },
  {
   "cell_type": "code",
   "execution_count": 5,
   "metadata": {},
   "outputs": [],
   "source": [
    "import numpy as np\n",
    "import networkx as nx\n",
    "import matplotlib.pyplot as plt\n"
   ]
  },
  {
   "cell_type": "markdown",
   "metadata": {},
   "source": [
    "### Main Program"
   ]
  },
  {
   "cell_type": "markdown",
   "metadata": {},
   "source": [
    "### Helper Functions"
   ]
  },
  {
   "cell_type": "code",
   "execution_count": 6,
   "metadata": {},
   "outputs": [],
   "source": [
    "def d(G, u, v):\n",
    "    # Returns shortest distance between 2 nodes in conncected graph\n",
    "    path = nx.shortest_path(G, u, v, weight='weight') # Get list of nodes in shortest path\n",
    "    distance = 0 \n",
    "    for i in range(0, len(path)-1): # Add weight of each edge in path to total distance\n",
    "        source, target = path[i:i+2] \n",
    "        distance += G[source][target]['weight']\n",
    "    return distance\n",
    "\n",
    "def P(G, u, v):\n",
    "    # Returns shortest distance between 2 nodes, or None if no path exists\n",
    "    if(not nx.has_path(G, u, v)):\n",
    "        return None\n",
    "    return d(G, u, v)\n",
    "\n",
    "def print_graph(G):\n",
    "    # Prints matrix representation and edges of networksx Graph object\n",
    "    print(nx.adjacency_matrix(G).todense(), '\\n')\n",
    "    print('edges: \\n')\n",
    "    for edge in G.edges(data=True):\n",
    "        print(edge)\n",
    "    print()"
   ]
  },
  {
   "cell_type": "code",
   "execution_count": 35,
   "metadata": {},
   "outputs": [],
   "source": [
    "def Spanner(G, r):\n",
    "    \"\"\"Algorithm for finding an r-spanner of a given graph\n",
    "    \n",
    "    Args:\n",
    "        G: networkx Graph object to find spanner of\n",
    "        r: stretch factor \n",
    "\n",
    "    Returns:\n",
    "        H: networks Graph object representing the r-spanner of G\n",
    "    \"\"\"\n",
    "    H = nx.Graph()\n",
    "    H.add_nodes_from(G)\n",
    "    edges=sorted(G.edges(data=True), key=lambda t: t[2].get('weight', 1))\n",
    "    print(edges)\n",
    "    for edge in edges:\n",
    "        span = r*edge[2]['weight']\n",
    "        distance = P(H, edge[0], edge[1])\n",
    "        if distance == None:\n",
    "            distance = float(\"inf\")\n",
    "        if span < distance:\n",
    "            H.add_edge(edge[0], edge[1], weight=edge[2]['weight'])\n",
    "    return H"
   ]
  },
  {
   "cell_type": "markdown",
   "metadata": {},
   "source": [
    "### Run program with example graph"
   ]
  },
  {
   "cell_type": "code",
   "execution_count": 36,
   "metadata": {},
   "outputs": [
    {
     "name": "stdout",
     "output_type": "stream",
     "text": [
      "[(0, 3, {'weight': 1}), (1, 2, {'weight': 1}), (2, 3, {'weight': 1}), (0, 1, {'weight': 2}), (1, 3, {'weight': 2}), (0, 2, {'weight': 4})]\n",
      "Original Graph, G: \n",
      "\n",
      "[[0 2 4 1]\n",
      " [2 0 1 2]\n",
      " [4 1 0 1]\n",
      " [1 2 1 0]] \n",
      "\n",
      "edges: \n",
      "\n",
      "(0, 1, {'weight': 2})\n",
      "(0, 2, {'weight': 4})\n",
      "(0, 3, {'weight': 1})\n",
      "(1, 2, {'weight': 1})\n",
      "(1, 3, {'weight': 2})\n",
      "(2, 3, {'weight': 1})\n",
      "\n",
      "R-spanner Graph, H: \n",
      "\n",
      "[[0 0 0 1]\n",
      " [0 0 1 0]\n",
      " [0 1 0 1]\n",
      " [1 0 1 0]] \n",
      "\n",
      "edges: \n",
      "\n",
      "(0, 3, {'weight': 1})\n",
      "(1, 2, {'weight': 1})\n",
      "(2, 3, {'weight': 1})\n",
      "\n"
     ]
    }
   ],
   "source": [
    "g_matrix = np.array([[0, 2, 4 , 1],  # Initialize numpy matrix, node numbers start at 0\n",
    "                     [2, 0, 1 , 2], \n",
    "                     [4, 1, 0 , 1], \n",
    "                     [1, 2, 1 , 0]])\n",
    "G = nx.from_numpy_array(g_matrix)   # Convert to networkx Graph object\n",
    "r = 3                                # Set stretch factor \n",
    "H = Spanner(G, r)                    # Create r-spanner\n",
    "\n",
    "print('Original Graph, G: \\n')\n",
    "print_graph(G)\n",
    "print('R-spanner Graph, H: \\n')\n",
    "print_graph(H)"
   ]
  },
  {
   "cell_type": "markdown",
   "metadata": {},
   "source": [
    "### Query graphs to check if stretch property is satisfied"
   ]
  },
  {
   "cell_type": "code",
   "execution_count": 37,
   "metadata": {},
   "outputs": [
    {
     "name": "stdout",
     "output_type": "stream",
     "text": [
      "True\n",
      "True\n"
     ]
    }
   ],
   "source": [
    "# Check verticies 0 and 1 on both graphs\n",
    "u, v = 0, 1\n",
    "distanceG, distanceH = d(G,u,v), d(H, u, v)\n",
    "print(distanceH <= distanceG * r)\n",
    "\n",
    "# Check verticies 1 and 2 on both graphs\n",
    "u, v = 1, 2\n",
    "distanceG, distanceH = d(G,u,v), d(H, u, v)\n",
    "print(distanceH <= distanceG * r)"
   ]
  }
 ],
 "metadata": {
  "kernelspec": {
   "display_name": "Python 3",
   "language": "python",
   "name": "python3"
  },
  "language_info": {
   "codemirror_mode": {
    "name": "ipython",
    "version": 3
   },
   "file_extension": ".py",
   "mimetype": "text/x-python",
   "name": "python",
   "nbconvert_exporter": "python",
   "pygments_lexer": "ipython3",
   "version": "3.9.13"
  },
  "vscode": {
   "interpreter": {
    "hash": "32f0edfaef9b860bde6b47af316781bc925ee8fba0b030e77e6c21e28f463396"
   }
  }
 },
 "nbformat": 4,
 "nbformat_minor": 4
}
