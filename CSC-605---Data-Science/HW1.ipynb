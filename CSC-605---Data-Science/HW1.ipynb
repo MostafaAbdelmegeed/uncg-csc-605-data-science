{
 "cells": [
  {
   "cell_type": "code",
   "execution_count": 1,
   "id": "703f7bbe",
   "metadata": {},
   "outputs": [],
   "source": [
    "import numpy as np\n",
    "import pandas as pd"
   ]
  },
  {
   "cell_type": "markdown",
   "id": "84551481",
   "metadata": {},
   "source": [
    "Q1(1 point): \n",
    "Implement a class for n-sided polygons and a class for points in a Euclidean system, namely *polygon* and *point* respectively. For example, a 4-sided polygon can be defined by 4 points P1, P2, P3, P4, and\n",
    "P1-P4 are each points of the form point(X,Y), and X and Y are coordinates on the X and Y axis, respectively. The edges are listed counterclockwise starting at the lower left: P1 to P2, P2 to P3, P3 to P4, and P4 to P1.  The polygon class should work for polygons of any number of edges and have a function perimeter that returns its perimeter (sum of the lengths of the edges). \n",
    "\n",
    "Hint: use the Pythagorian theorem: if a line segment Z starts at (X1,Y1) and ends at (X2, Y2), the length of Z is the square root of (X1-X2)^2 + (Y1-Y2)^2. \n",
    "\n",
    "Example:\n",
    "The perimeter of the polygon/triangle on point(1,1), point(1,2), and point(2,2) is 3.4\n",
    "The perimeter of the 4-sided polygon on point(2,1), point(2,3), point(6,3), and point(4,1) is 10.8"
   ]
  },
  {
   "cell_type": "code",
   "execution_count": null,
   "id": "a848c996",
   "metadata": {},
   "outputs": [],
   "source": []
  },
  {
   "cell_type": "markdown",
   "id": "4bcbe249",
   "metadata": {},
   "source": [
    "Q2(1 point):\n",
    "- Create a numpy array X with uniformly random integers from 0 (inclusive) to 100 (exclusive) and shape 1000 * 1000. \n",
    "- What is the data type for each element in X? Cast the type to int16 and float128 to get two arrays Y and Z, respectively.\n",
    "- Calculate total bytes consumed by X, Y and Z (using ndarray.nbytes) and explain why."
   ]
  },
  {
   "cell_type": "code",
   "execution_count": null,
   "id": "0c785622",
   "metadata": {},
   "outputs": [],
   "source": []
  },
  {
   "cell_type": "markdown",
   "id": "2430b89a",
   "metadata": {},
   "source": [
    "Q3(1 point):\n",
    "- Write a function call *element_mult* to perform element-wise matrix multiplication.\n",
    "- Create two random matrices X and Y of size 1000 * 1000\n",
    "- Multiple X and Y using your element_mult and vectorized multiply (simply using * ) and collect the running time (e.g., using time followed by your command). What is ratio of the running time using element-wise and vectorized multiplication?"
   ]
  },
  {
   "cell_type": "code",
   "execution_count": null,
   "id": "b44c01c7",
   "metadata": {},
   "outputs": [],
   "source": []
  },
  {
   "cell_type": "markdown",
   "id": "fa5a8c92",
   "metadata": {},
   "source": [
    "Q4(1 point):\n",
    "- Import data/AIS/transit_segments.csv, format st_time and end_time in the format: \"Thursday February 16 2023 17:30:00\"\n",
    "- For data/AIS/vessel_information.csv, keep only those rows with the type value occurring for at least 100 times in the dataset.\n",
    "- For data/microbiome_missing.csv, what is the total number of missing data entries? What is the number of rows without any missing data and its ratio with respect to the total number of rows?"
   ]
  },
  {
   "cell_type": "code",
   "execution_count": null,
   "id": "fd502229",
   "metadata": {},
   "outputs": [],
   "source": []
  },
  {
   "cell_type": "markdown",
   "id": "77e8b0a0",
   "metadata": {},
   "source": [
    "Q5(1 point):\n",
    "- Merge data/AIS/vessel_information.csv and data/AIS/transit_segments.csv on the \"mmsi\" column using outer join.\n",
    "- If you are *not* allowed to call the inner join provided by Pandas but have the above outer join results, how to get the results of inner join? You can use other functions provided by Pandas (but not a function that directly implements the inner join).\n",
    "- Now directly call the inner join provided by Pandas, check whether your results above are exactly the same."
   ]
  },
  {
   "cell_type": "code",
   "execution_count": null,
   "id": "7b09b90d",
   "metadata": {},
   "outputs": [],
   "source": []
  }
 ],
 "metadata": {
  "kernelspec": {
   "display_name": "Python 3 (ipykernel)",
   "language": "python",
   "name": "python3"
  },
  "language_info": {
   "codemirror_mode": {
    "name": "ipython",
    "version": 3
   },
   "file_extension": ".py",
   "mimetype": "text/x-python",
   "name": "python",
   "nbconvert_exporter": "python",
   "pygments_lexer": "ipython3",
   "version": "3.8.2"
  }
 },
 "nbformat": 4,
 "nbformat_minor": 5
}
