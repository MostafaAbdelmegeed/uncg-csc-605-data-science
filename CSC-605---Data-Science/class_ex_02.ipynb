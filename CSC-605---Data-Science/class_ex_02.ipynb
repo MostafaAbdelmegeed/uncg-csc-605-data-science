{
 "cells": [
  {
   "attachments": {},
   "cell_type": "markdown",
   "metadata": {},
   "source": [
    "*You need to choose a suitable probability distribution for the calculation.*\n",
    "1. Suppose Shark’s basketball free throw (FT) rate is 60%.\n",
    "- If Shark wants to hit a FT to complete his training, what is the probability that he needs to shoot at least 3 FTs?\n",
    "- If Shark gets 10 FTs in a game, what is the probability that he gets less than 5 points?\n",
    "- Shark’s team 93:92 over opposite in final minutes. We know that shark made 6 over 8 FT, then is it a good idea to foul Shark and send him to FT line for 2 FTs? Let’s assume that if Shark misses at least 1 FT, the foul is considered as a \"good idea\" for the opposite."
   ]
  },
  {
   "cell_type": "code",
   "execution_count": 10,
   "metadata": {},
   "outputs": [
    {
     "name": "stdout",
     "output_type": "stream",
     "text": [
      "Geometric Distribution - Discrete\n",
      "0.8999999999999999\n",
      "0.010240000000000003\n",
      "It is, if we consider each FT is mutually exclusive, then Shark would still have 60% chance to score\n"
     ]
    }
   ],
   "source": [
    "print(\"Geometric Distribution - Discrete geom.cdf(x=2, p=0.6)\")\n",
    "print(\"Binomial Distribution binom.cdf(x=4, p=0.6)\")\n",
    "print(\"binom.pmf(x=7&8, p=0.6) final prop=p(7)+p(8)/(p(6)+p(7)+p(8))\")"
   ]
  },
  {
   "attachments": {},
   "cell_type": "markdown",
   "metadata": {},
   "source": [
    "2. Number of students visiting my hour-long office hour.\n",
    "\n",
    "Suppose on average I have 3 visiting students:\n",
    "- What is the probability of having no visiting students?\n",
    "- what is the probability of having 3 and more students?"
   ]
  },
  {
   "cell_type": "code",
   "execution_count": 13,
   "metadata": {},
   "outputs": [
    {
     "name": "stdout",
     "output_type": "stream",
     "text": [
      "using 1-poisson.cdf(k=2,mu=3)\n"
     ]
    }
   ],
   "source": [
    "print(\"using 1-poisson.cdf(k=2,mu=3)\")"
   ]
  },
  {
   "attachments": {},
   "cell_type": "markdown",
   "metadata": {},
   "source": [
    "3. Suppose the average arrival time of a pandemic is 100 years.\n",
    "What is the probability of having a pandemic in the next 5 years?"
   ]
  },
  {
   "cell_type": "code",
   "execution_count": 12,
   "metadata": {},
   "outputs": [
    {
     "name": "stdout",
     "output_type": "stream",
     "text": [
      "expon.ppf(x=5, scale=1/100)\n"
     ]
    }
   ],
   "source": [
    "print(\"expon.ppf(x=5, scale=1/100)\")"
   ]
  },
  {
   "cell_type": "code",
   "execution_count": null,
   "metadata": {},
   "outputs": [],
   "source": []
  }
 ],
 "metadata": {
  "kernelspec": {
   "display_name": "venv",
   "language": "python",
   "name": "python3"
  },
  "language_info": {
   "codemirror_mode": {
    "name": "ipython",
    "version": 3
   },
   "file_extension": ".py",
   "mimetype": "text/x-python",
   "name": "python",
   "nbconvert_exporter": "python",
   "pygments_lexer": "ipython3",
   "version": "3.11.2"
  },
  "orig_nbformat": 4,
  "vscode": {
   "interpreter": {
    "hash": "d1da5439790eaba2d90555d0f206ceebab79eaf0b0336e1b5a3f1f0c5cf63700"
   }
  }
 },
 "nbformat": 4,
 "nbformat_minor": 2
}
