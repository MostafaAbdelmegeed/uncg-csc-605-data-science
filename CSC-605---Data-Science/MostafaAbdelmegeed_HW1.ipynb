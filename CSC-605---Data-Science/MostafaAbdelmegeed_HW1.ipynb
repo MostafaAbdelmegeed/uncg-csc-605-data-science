{
 "cells": [
  {
   "cell_type": "code",
   "execution_count": 1,
   "id": "703f7bbe",
   "metadata": {},
   "outputs": [],
   "source": [
    "import numpy as np\n",
    "import pandas as pd\n",
    "import math"
   ]
  },
  {
   "cell_type": "markdown",
   "id": "84551481",
   "metadata": {},
   "source": [
    "Q1(1 point): \n",
    "Implement a class for n-sided polygons and a class for points in a Euclidean system, namely *polygon* and *point* respectively. For example, a 4-sided polygon can be defined by 4 points P1, P2, P3, P4, and\n",
    "P1-P4 are each points of the form point(X,Y), and X and Y are coordinates on the X and Y axis, respectively. The edges are listed counterclockwise starting at the lower left: P1 to P2, P2 to P3, P3 to P4, and P4 to P1.  The polygon class should work for polygons of any number of edges and have a function perimeter that returns its perimeter (sum of the lengths of the edges). \n",
    "\n",
    "Hint: use the Pythagorian theorem: if a line segment Z starts at (X1,Y1) and ends at (X2, Y2), the length of Z is the square root of (X1-X2)^2 + (Y1-Y2)^2. \n",
    "\n",
    "Example:\n",
    "The perimeter of the polygon/triangle on point(1,1), point(1,2), and point(2,2) is 3.4\n",
    "The perimeter of the 4-sided polygon on point(2,1), point(2,3), point(6,3), and point(4,1) is 10.8"
   ]
  },
  {
   "cell_type": "code",
   "execution_count": 2,
   "id": "a848c996",
   "metadata": {},
   "outputs": [
    {
     "name": "stdout",
     "output_type": "stream",
     "text": [
      "Edges:\n",
      "(2, 1) -> (2, 3)\n",
      "(2, 3) -> (6, 3)\n",
      "(6, 3) -> (4, 1)\n",
      "(4, 1) -> (2, 1)\n",
      "\n",
      "10.82842712474619\n"
     ]
    }
   ],
   "source": [
    "class Point:\n",
    "    def __init__(self, x=0, y=0):\n",
    "        self.x = x\n",
    "        self.y = y\n",
    "    def __str__(self):\n",
    "        return '({}, {})'.format(self.x, self.y)\n",
    "        \n",
    "class Polygon:\n",
    "    def __init__(self, points=[]):\n",
    "        self.points = points\n",
    "    def __str__(self):\n",
    "        asString = \"Edges:\\n\"\n",
    "        if len(self.points) < 2:\n",
    "            return '({}, {})'.format(self.points[0].x, self.points[1].y)\n",
    "        for i in range(len(self.points)-1):\n",
    "            asString += \"({}, {}) -> ({}, {})\\n\".format(self.points[i].x, self.points[i].y, self.points[i+1].x, self.points[i+1].y)\n",
    "        asString += \"({}, {}) -> ({}, {})\\n\".format(self.points[-1].x, self.points[-1].y, self.points[0].x, self.points[0].y)\n",
    "        return asString\n",
    "    def perimeter(self):\n",
    "        per = 0\n",
    "        if len(self.points) < 2:\n",
    "            return per\n",
    "        for i in range(len(self.points)-1):\n",
    "            x1, x2, y1, y2 = self.points[i].x, self.points[i+1].x, self.points[i].y, self.points[i+1].y  \n",
    "            per += math.sqrt((x2-x1)**2 + (y2-y1)**2)\n",
    "        per += math.sqrt((self.points[0].x-self.points[-1].x)**2+(self.points[0].y-self.points[-1].y)**2)\n",
    "        return per\n",
    "        \n",
    "\n",
    "points = [Point(2, 1), Point(2, 3), Point(6, 3), Point(4, 1)] \n",
    "polygon = Polygon(points)\n",
    "print(polygon)\n",
    "print(polygon.perimeter())\n",
    "    \n",
    "    "
   ]
  },
  {
   "cell_type": "markdown",
   "id": "4bcbe249",
   "metadata": {},
   "source": [
    "Q2(1 point):\n",
    "- Create a numpy array X with uniformly random integers from 0 (inclusive) to 100 (exclusive) and shape 1000 * 1000. \n",
    "- What is the data type for each element in X? Cast the type to int16 and float128 to get two arrays Y and Z, respectively.\n",
    "- Calculate total bytes consumed by X, Y and Z (using ndarray.nbytes) and explain why."
   ]
  },
  {
   "cell_type": "code",
   "execution_count": 3,
   "id": "0c785622",
   "metadata": {},
   "outputs": [
    {
     "name": "stdout",
     "output_type": "stream",
     "text": [
      "Elements type: float64\n",
      "float64 array:\t\t8000000 Bytes\n",
      "int16 array:\t\t2000000 Bytes\n",
      "longdouble array:\t8000000 Bytes\n"
     ]
    }
   ],
   "source": [
    "rarr = np.random.uniform(low=0, high=100, size=(1000, 1000))\n",
    "print(\"Elements type: {}\".format(rarr.dtype))\n",
    "rarr_int16 = rarr.astype(np.int16)\n",
    "# np.float128 is platform specific, I am using this on a windows machine, so I am using np.longdouble\n",
    "# N.B when np.float128 was used on this machine, it didn't work.\n",
    "rarr_longdouble = rarr.astype(np.longdouble)\n",
    "print(\"float64 array:\\t\\t{} Bytes\".format(rarr.nbytes))\n",
    "print(\"int16 array:\\t\\t{} Bytes\".format(rarr_int16.nbytes))\n",
    "print(\"longdouble array:\\t{} Bytes\".format(rarr_longdouble.nbytes))"
   ]
  },
  {
   "attachments": {},
   "cell_type": "markdown",
   "id": "a41cb46a",
   "metadata": {},
   "source": [
    "We have 10^6 elements in our 2D array, if we used the default float64 data type for the elements, we will have 64bits/8= 8 bytes per element, which gives us around 8*10^6 bytes for the overall array.\n",
    "\n",
    "Same calculation goes for the int16 one, except now each element occupy only 16bit/8=2bytes, which means the whole array occupies around 2*10^6 bytes.\n",
    "\n",
    "For the last one, which is platform specific, float128 would work on a unix machine, but on my windows x64 machine I couldn't get the float128, however we can go through with the same calculation for whichever datatype we have, #bits/8=#ofbytes, #ofbytes*num_of_elements=total_size_in_bytes"
   ]
  },
  {
   "cell_type": "markdown",
   "id": "2430b89a",
   "metadata": {},
   "source": [
    "Q3(1 point):\n",
    "- Write a function call *element_mult* to perform element-wise matrix multiplication.\n",
    "- Create two random matrices X and Y of size 1000 * 1000\n",
    "- Multiple X and Y using your element_mult and vectorized multiply (simply using * ) and collect the running time (e.g., using time followed by your command). What is ratio of the running time using element-wise and vectorized multiplication?"
   ]
  },
  {
   "cell_type": "code",
   "execution_count": 4,
   "id": "b44c01c7",
   "metadata": {},
   "outputs": [
    {
     "name": "stdout",
     "output_type": "stream",
     "text": [
      "490 ms ± 25 ms per loop (mean ± std. dev. of 7 runs, 1 loop each)\n",
      "3.11 ms ± 328 µs per loop (mean ± std. dev. of 7 runs, 100 loops each)\n"
     ]
    }
   ],
   "source": [
    "def element_mult(mat1, mat2):\n",
    "    assert(mat1.shape == mat2.shape)\n",
    "    mat3 = np.zeros_like(mat1)\n",
    "    for i in range(mat1.shape[0]):\n",
    "        for j in range(mat2.shape[1]):\n",
    "            mat3[i][j] = mat1[i][j]*mat2[i][j]\n",
    "    return mat3\n",
    "\n",
    "rmat1 = np.random.rand(1000, 1000)\n",
    "rmat2 = np.random.rand(1000, 1000)\n",
    "%timeit rmat3 = element_mult(rmat1, rmat2)\n",
    "%timeit rmat1 * rmat2\n"
   ]
  },
  {
   "attachments": {},
   "cell_type": "markdown",
   "id": "677de933",
   "metadata": {},
   "source": [
    "Ratio of running time using element-wise to vectorized multiplication: 448ms/4.53ms = 99"
   ]
  },
  {
   "cell_type": "markdown",
   "id": "fa5a8c92",
   "metadata": {},
   "source": [
    "Q4(1 point):\n",
    "- Import data/AIS/transit_segments.csv, format st_time and end_time in the format: \"Thursday February 16 2023 17:30:00\"\n",
    "- For data/AIS/vessel_information.csv, keep only those rows with the type value occurring for at least 100 times in the dataset.\n",
    "- For data/microbiome_missing.csv, what is the total number of missing data entries? What is the number of rows without any missing data and its ratio with respect to the total number of rows?"
   ]
  },
  {
   "cell_type": "code",
   "execution_count": 5,
   "id": "fd502229",
   "metadata": {},
   "outputs": [
    {
     "data": {
      "text/html": [
       "<div>\n",
       "<style scoped>\n",
       "    .dataframe tbody tr th:only-of-type {\n",
       "        vertical-align: middle;\n",
       "    }\n",
       "\n",
       "    .dataframe tbody tr th {\n",
       "        vertical-align: top;\n",
       "    }\n",
       "\n",
       "    .dataframe thead th {\n",
       "        text-align: right;\n",
       "    }\n",
       "</style>\n",
       "<table border=\"1\" class=\"dataframe\">\n",
       "  <thead>\n",
       "    <tr style=\"text-align: right;\">\n",
       "      <th></th>\n",
       "      <th>mmsi</th>\n",
       "      <th>name</th>\n",
       "      <th>transit</th>\n",
       "      <th>segment</th>\n",
       "      <th>seg_length</th>\n",
       "      <th>avg_sog</th>\n",
       "      <th>min_sog</th>\n",
       "      <th>max_sog</th>\n",
       "      <th>pdgt10</th>\n",
       "      <th>st_time</th>\n",
       "      <th>end_time</th>\n",
       "    </tr>\n",
       "  </thead>\n",
       "  <tbody>\n",
       "    <tr>\n",
       "      <th>0</th>\n",
       "      <td>1</td>\n",
       "      <td>Us Govt Ves</td>\n",
       "      <td>1</td>\n",
       "      <td>1</td>\n",
       "      <td>5.1</td>\n",
       "      <td>13.2</td>\n",
       "      <td>9.2</td>\n",
       "      <td>14.5</td>\n",
       "      <td>96.5</td>\n",
       "      <td>Tuesday February 10 2009 16:03:00</td>\n",
       "      <td>Tuesday February 10 2009 16:27:00</td>\n",
       "    </tr>\n",
       "    <tr>\n",
       "      <th>1</th>\n",
       "      <td>1</td>\n",
       "      <td>Dredge Capt Frank</td>\n",
       "      <td>1</td>\n",
       "      <td>1</td>\n",
       "      <td>13.5</td>\n",
       "      <td>18.6</td>\n",
       "      <td>10.4</td>\n",
       "      <td>20.6</td>\n",
       "      <td>100.0</td>\n",
       "      <td>Monday April 06 2009 14:31:00</td>\n",
       "      <td>Monday April 06 2009 15:20:00</td>\n",
       "    </tr>\n",
       "  </tbody>\n",
       "</table>\n",
       "</div>"
      ],
      "text/plain": [
       "   mmsi               name  transit  segment  seg_length  avg_sog  min_sog  \\\n",
       "0     1        Us Govt Ves        1        1         5.1     13.2      9.2   \n",
       "1     1  Dredge Capt Frank        1        1        13.5     18.6     10.4   \n",
       "\n",
       "   max_sog  pdgt10                            st_time  \\\n",
       "0     14.5    96.5  Tuesday February 10 2009 16:03:00   \n",
       "1     20.6   100.0      Monday April 06 2009 14:31:00   \n",
       "\n",
       "                            end_time  \n",
       "0  Tuesday February 10 2009 16:27:00  \n",
       "1      Monday April 06 2009 15:20:00  "
      ]
     },
     "execution_count": 5,
     "metadata": {},
     "output_type": "execute_result"
    }
   ],
   "source": [
    "ts = pd.read_csv('data/AIS/transit_segments.csv')\n",
    "ts['st_time'] = pd.to_datetime(ts['st_time']).dt.strftime(\"%A %B %d %Y %H:%M:%S\")\n",
    "ts['end_time'] = pd.to_datetime(ts['end_time']).dt.strftime(\"%A %B %d %Y %H:%M:%S\")\n",
    "ts.head(2)"
   ]
  },
  {
   "cell_type": "code",
   "execution_count": 6,
   "id": "abae1f07",
   "metadata": {},
   "outputs": [
    {
     "data": {
      "text/html": [
       "<div>\n",
       "<style scoped>\n",
       "    .dataframe tbody tr th:only-of-type {\n",
       "        vertical-align: middle;\n",
       "    }\n",
       "\n",
       "    .dataframe tbody tr th {\n",
       "        vertical-align: top;\n",
       "    }\n",
       "\n",
       "    .dataframe thead th {\n",
       "        text-align: right;\n",
       "    }\n",
       "</style>\n",
       "<table border=\"1\" class=\"dataframe\">\n",
       "  <thead>\n",
       "    <tr style=\"text-align: right;\">\n",
       "      <th></th>\n",
       "      <th>mmsi</th>\n",
       "      <th>num_names</th>\n",
       "      <th>names</th>\n",
       "      <th>sov</th>\n",
       "      <th>flag</th>\n",
       "      <th>flag_type</th>\n",
       "      <th>num_loas</th>\n",
       "      <th>loa</th>\n",
       "      <th>max_loa</th>\n",
       "      <th>num_types</th>\n",
       "      <th>type</th>\n",
       "    </tr>\n",
       "  </thead>\n",
       "  <tbody>\n",
       "    <tr>\n",
       "      <th>2</th>\n",
       "      <td>21</td>\n",
       "      <td>1</td>\n",
       "      <td>Us Gov Vessel</td>\n",
       "      <td>Y</td>\n",
       "      <td>Unknown</td>\n",
       "      <td>Unknown</td>\n",
       "      <td>1</td>\n",
       "      <td>208.0</td>\n",
       "      <td>208.0</td>\n",
       "      <td>1</td>\n",
       "      <td>Unknown</td>\n",
       "    </tr>\n",
       "    <tr>\n",
       "      <th>3</th>\n",
       "      <td>74</td>\n",
       "      <td>2</td>\n",
       "      <td>Mcfaul/Sarah Bell</td>\n",
       "      <td>N</td>\n",
       "      <td>Unknown</td>\n",
       "      <td>Unknown</td>\n",
       "      <td>1</td>\n",
       "      <td>155.0</td>\n",
       "      <td>155.0</td>\n",
       "      <td>1</td>\n",
       "      <td>Unknown</td>\n",
       "    </tr>\n",
       "    <tr>\n",
       "      <th>5</th>\n",
       "      <td>310</td>\n",
       "      <td>1</td>\n",
       "      <td>Arabella</td>\n",
       "      <td>N</td>\n",
       "      <td>Bermuda</td>\n",
       "      <td>Foreign</td>\n",
       "      <td>1</td>\n",
       "      <td>47.0</td>\n",
       "      <td>47.0</td>\n",
       "      <td>1</td>\n",
       "      <td>Unknown</td>\n",
       "    </tr>\n",
       "    <tr>\n",
       "      <th>6</th>\n",
       "      <td>3011</td>\n",
       "      <td>1</td>\n",
       "      <td>Charleston</td>\n",
       "      <td>N</td>\n",
       "      <td>Anguilla</td>\n",
       "      <td>Foreign</td>\n",
       "      <td>1</td>\n",
       "      <td>160.0</td>\n",
       "      <td>160.0</td>\n",
       "      <td>1</td>\n",
       "      <td>Other</td>\n",
       "    </tr>\n",
       "    <tr>\n",
       "      <th>7</th>\n",
       "      <td>4731</td>\n",
       "      <td>1</td>\n",
       "      <td>000004731</td>\n",
       "      <td>N</td>\n",
       "      <td>Yemen (Republic of)</td>\n",
       "      <td>Foreign</td>\n",
       "      <td>1</td>\n",
       "      <td>30.0</td>\n",
       "      <td>30.0</td>\n",
       "      <td>1</td>\n",
       "      <td>Unknown</td>\n",
       "    </tr>\n",
       "  </tbody>\n",
       "</table>\n",
       "</div>"
      ],
      "text/plain": [
       "   mmsi  num_names              names sov                  flag flag_type  \\\n",
       "2    21          1      Us Gov Vessel   Y               Unknown   Unknown   \n",
       "3    74          2  Mcfaul/Sarah Bell   N               Unknown   Unknown   \n",
       "5   310          1           Arabella   N              Bermuda    Foreign   \n",
       "6  3011          1         Charleston   N             Anguilla    Foreign   \n",
       "7  4731          1          000004731   N  Yemen (Republic of)    Foreign   \n",
       "\n",
       "   num_loas    loa  max_loa  num_types     type  \n",
       "2         1  208.0    208.0          1  Unknown  \n",
       "3         1  155.0    155.0          1  Unknown  \n",
       "5         1   47.0     47.0          1  Unknown  \n",
       "6         1  160.0    160.0          1    Other  \n",
       "7         1   30.0     30.0          1  Unknown  "
      ]
     },
     "execution_count": 6,
     "metadata": {},
     "output_type": "execute_result"
    }
   ],
   "source": [
    "vi = pd.read_csv('data/AIS/vessel_information.csv')\n",
    "vi_type_counts = vi['type'].value_counts()[vi['type'].value_counts() >= 100]\n",
    "vi = vi[vi['type'].isin(vi_type_counts.index)]\n",
    "vi.head(5)"
   ]
  },
  {
   "cell_type": "code",
   "execution_count": 14,
   "id": "1d9c0013",
   "metadata": {},
   "outputs": [
    {
     "name": "stdout",
     "output_type": "stream",
     "text": [
      "Number of rows that contains NaN values: 3\n",
      "Number of rows that are full: 72\n",
      "Ratio of full rows to total: 0.96\n"
     ]
    }
   ],
   "source": [
    "mm = pd.read_csv('data/microbiome_missing.csv')\n",
    "mm.replace(to_replace=['?', 'NA'], value=np.NaN, inplace=True)\n",
    "mm_filt = mm.dropna()\n",
    "nan_count = mm.shape[0] - mm_filt.shape[0]\n",
    "print(\"Number of rows that contains NaN values: {}\".format(nan_count))\n",
    "print(\"Number of rows that are full: {}\".format((mm.shape[0] - nan_count)))\n",
    "print(\"Ratio of full rows to total: {}\".format((mm.shape[0] - nan_count)/mm.shape[0]))"
   ]
  },
  {
   "cell_type": "markdown",
   "id": "77e8b0a0",
   "metadata": {},
   "source": [
    "Q5(1 point):\n",
    "- Merge data/AIS/vessel_information.csv and data/AIS/transit_segments.csv on the \"mmsi\" column using outer join.\n",
    "- If you are *not* allowed to call the inner join provided by Pandas but have the above outer join results, how to get the results of inner join? You can use other functions provided by Pandas (but not a function that directly implements the inner join).\n",
    "- Now directly call the inner join provided by Pandas, check whether your results above are exactly the same."
   ]
  },
  {
   "cell_type": "code",
   "execution_count": 8,
   "id": "7b09b90d",
   "metadata": {},
   "outputs": [
    {
     "name": "stdout",
     "output_type": "stream",
     "text": [
      "262526\n"
     ]
    }
   ],
   "source": [
    "vi = pd.read_csv('data/AIS/vessel_information.csv')\n",
    "ts = pd.read_csv('data/AIS/transit_segments.csv')\n",
    "vi_ts_outer = vi.merge(ts, on=['mmsi'], how='outer')\n",
    "print(vi_ts_outer.shape[0])"
   ]
  },
  {
   "cell_type": "code",
   "execution_count": 9,
   "id": "3ef8c9a6",
   "metadata": {},
   "outputs": [
    {
     "name": "stdout",
     "output_type": "stream",
     "text": [
      "262353\n"
     ]
    }
   ],
   "source": [
    "vi_ts_inner = vi.merge(ts, on=['mmsi'], how='inner')    # Pandas inner merge\n",
    "print(vi_ts_inner.shape[0])"
   ]
  },
  {
   "cell_type": "code",
   "execution_count": 10,
   "id": "cbe695b5",
   "metadata": {},
   "outputs": [
    {
     "name": "stdout",
     "output_type": "stream",
     "text": [
      "262353\n"
     ]
    }
   ],
   "source": [
    "vi_ts_inner_manual = vi_ts_outer[(vi_ts_outer['mmsi'].isin(vi['mmsi'])) & (vi_ts_outer['mmsi'].isin(ts['mmsi']))]   # Manually inner merge\n",
    "print(vi_ts_inner_manual.shape[0])"
   ]
  },
  {
   "attachments": {},
   "cell_type": "markdown",
   "id": "8ce36c1c",
   "metadata": {},
   "source": [
    "Both merges result in a same size dataframe."
   ]
  }
 ],
 "metadata": {
  "kernelspec": {
   "display_name": "Python 3",
   "language": "python",
   "name": "python3"
  },
  "language_info": {
   "codemirror_mode": {
    "name": "ipython",
    "version": 3
   },
   "file_extension": ".py",
   "mimetype": "text/x-python",
   "name": "python",
   "nbconvert_exporter": "python",
   "pygments_lexer": "ipython3",
   "version": "3.11.2"
  },
  "vscode": {
   "interpreter": {
    "hash": "8f3440aa950f91bd5592e1234d1a972a18bca883570977aa674d088874f384ef"
   }
  }
 },
 "nbformat": 4,
 "nbformat_minor": 5
}
